{
 "cells": [
  {
   "cell_type": "code",
   "execution_count": 1,
   "id": "3656ce5a",
   "metadata": {},
   "outputs": [],
   "source": [
    "import numpy as np #mathematics\n",
    "import matplotlib.pyplot as plt #like graph plot\n",
    "import pandas as pd"
   ]
  },
  {
   "cell_type": "code",
   "execution_count": 2,
   "id": "f7d4f82f",
   "metadata": {},
   "outputs": [],
   "source": [
    "dataset=pd.read_csv(\"CKD.csv\")"
   ]
  },
  {
   "cell_type": "code",
   "execution_count": 3,
   "id": "8cae628b",
   "metadata": {},
   "outputs": [],
   "source": [
    "dataset=pd.get_dummies(dataset,drop_first=True)"
   ]
  },
  {
   "cell_type": "code",
   "execution_count": 4,
   "id": "59a10224",
   "metadata": {},
   "outputs": [],
   "source": [
    "dataset=dataset.astype(int)"
   ]
  },
  {
   "cell_type": "code",
   "execution_count": 5,
   "id": "bbbb5b8b",
   "metadata": {},
   "outputs": [
    {
     "data": {
      "text/plain": [
       "classification_yes\n",
       "1    249\n",
       "0    150\n",
       "Name: count, dtype: int64"
      ]
     },
     "execution_count": 5,
     "metadata": {},
     "output_type": "execute_result"
    }
   ],
   "source": [
    "dataset[\"classification_yes\"].value_counts()"
   ]
  },
  {
   "cell_type": "code",
   "execution_count": 6,
   "id": "1542cc7f",
   "metadata": {},
   "outputs": [
    {
     "data": {
      "text/plain": [
       "Index(['age', 'bp', 'al', 'su', 'bgr', 'bu', 'sc', 'sod', 'pot', 'hrmo', 'pcv',\n",
       "       'wc', 'rc', 'sg_b', 'sg_c', 'sg_d', 'sg_e', 'rbc_normal', 'pc_normal',\n",
       "       'pcc_present', 'ba_present', 'htn_yes', 'dm_yes', 'cad_yes',\n",
       "       'appet_yes', 'pe_yes', 'ane_yes', 'classification_yes'],\n",
       "      dtype='object')"
      ]
     },
     "execution_count": 6,
     "metadata": {},
     "output_type": "execute_result"
    }
   ],
   "source": [
    "dataset.columns"
   ]
  },
  {
   "cell_type": "code",
   "execution_count": 7,
   "id": "7325588d",
   "metadata": {},
   "outputs": [],
   "source": [
    "independent=dataset[['age', 'bp', 'al', 'su', 'bgr', 'bu', 'sc', 'sod', 'pot', 'hrmo', 'pcv',\n",
    "       'wc', 'rc', 'sg_b', 'sg_c', 'sg_d', 'sg_e', 'rbc_normal', 'pc_normal',\n",
    "       'pcc_present', 'ba_present', 'htn_yes', 'dm_yes', 'cad_yes',\n",
    "       'appet_yes', 'pe_yes', 'ane_yes']]\n",
    "\n",
    "dependent=dataset[['classification_yes']]"
   ]
  },
  {
   "cell_type": "code",
   "execution_count": 8,
   "id": "1b68d060",
   "metadata": {},
   "outputs": [],
   "source": [
    "from sklearn.model_selection import train_test_split\n",
    "x_train,x_test,y_train,y_test=train_test_split(independent,dependent,test_size=1/3,random_state=0)"
   ]
  },
  {
   "cell_type": "code",
   "execution_count": 9,
   "id": "5c80bb02",
   "metadata": {},
   "outputs": [],
   "source": [
    "# fitting the model for grid search\n",
    "from sklearn.preprocessing import StandardScaler\n",
    "sc=StandardScaler()\n",
    "x_train=sc.fit_transform(x_train)\n",
    "x_test=sc.transform(x_test)"
   ]
  },
  {
   "cell_type": "code",
   "execution_count": 10,
   "id": "e8160287",
   "metadata": {},
   "outputs": [
    {
     "name": "stdout",
     "output_type": "stream",
     "text": [
      "The confusion matrix:\n",
      " [[51  0]\n",
      " [ 0 82]]\n",
      "The report:\n",
      "               precision    recall  f1-score   support\n",
      "\n",
      "           0       1.00      1.00      1.00        51\n",
      "           1       1.00      1.00      1.00        82\n",
      "\n",
      "    accuracy                           1.00       133\n",
      "   macro avg       1.00      1.00      1.00       133\n",
      "weighted avg       1.00      1.00      1.00       133\n",
      "\n",
      "ROC AUC Score: 1.0\n"
     ]
    },
    {
     "name": "stderr",
     "output_type": "stream",
     "text": [
      "C:\\Users\\Admin\\anaconda3\\Lib\\site-packages\\sklearn\\ensemble\\_gb.py:424: DataConversionWarning: A column-vector y was passed when a 1d array was expected. Please change the shape of y to (n_samples, ), for example using ravel().\n",
      "  y = column_or_1d(y, warn=True)\n"
     ]
    },
    {
     "data": {
      "text/plain": [
       "array([1])"
      ]
     },
     "execution_count": 10,
     "metadata": {},
     "output_type": "execute_result"
    }
   ],
   "source": [
    "# GradientBoostingClassifier\n",
    "from sklearn.ensemble import GradientBoostingClassifier\n",
    "classifier = GradientBoostingClassifier(n_estimators=100, learning_rate=1.0,max_depth=1, random_state=0)\n",
    "classifier.fit(x_train, y_train)\n",
    "\n",
    "y_pred=classifier.predict(x_test)\n",
    "\n",
    "from sklearn.metrics import confusion_matrix\n",
    "cm=confusion_matrix(y_test,y_pred)\n",
    "print(\"The confusion matrix:\\n\",cm)\n",
    "\n",
    "#Evolution \n",
    "from sklearn.metrics import classification_report\n",
    "clf_report=classification_report(y_test,y_pred)\n",
    "print(\"The report:\\n\",clf_report)\n",
    "\n",
    "from sklearn.metrics import roc_auc_score \n",
    "roc=roc_auc_score(y_test,classifier.predict_proba(x_test)[:,1])\n",
    "print(\"ROC AUC Score:\",roc)\n",
    "\n",
    "#classifier.predict([[40,30,1,1,1,1,1,1,1,1,1,1,1,1,1,1,0,0,0,0,0,0,0,0,0,0,0]])"
   ]
  },
  {
   "cell_type": "code",
   "execution_count": 12,
   "id": "1b883be6",
   "metadata": {},
   "outputs": [],
   "source": [
    "import pickle\n",
    "filename=\"finalized_model_Gradient_boosting.sav\"\n",
    "pickle.dump(classifier,open(filename,'wb'))"
   ]
  },
  {
   "cell_type": "code",
   "execution_count": 14,
   "id": "0441e573",
   "metadata": {},
   "outputs": [],
   "source": [
    "loaded_model=pickle.load(open('finalized_model_Gradient_boosting.sav','rb'))\n",
    "result=loaded_model.predict([[40,30,1,1,1,1,1,1,1,1,1,1,1,1,1,1,0,0,0,0,0,0,0,0,0,0,0]])"
   ]
  },
  {
   "cell_type": "code",
   "execution_count": 15,
   "id": "a88d186c",
   "metadata": {},
   "outputs": [
    {
     "data": {
      "text/plain": [
       "array([1])"
      ]
     },
     "execution_count": 15,
     "metadata": {},
     "output_type": "execute_result"
    }
   ],
   "source": [
    "result"
   ]
  },
  {
   "cell_type": "code",
   "execution_count": 17,
   "id": "686ef828",
   "metadata": {},
   "outputs": [
    {
     "name": "stdout",
     "output_type": "stream",
     "text": [
      "Age:30\n",
      "bp:40\n",
      "al:1\n",
      "su:1\n",
      "bgr:1\n",
      "bu:1\n",
      "sc:1\n",
      "sod:1\n",
      "pot:1\n",
      "hrmo:1\n",
      "pcv:1\n",
      "wc:1\n",
      "rc:0\n",
      "sg_b:0\n",
      "sg_c:0\n",
      "sg_d:0\n",
      "sg_e:0\n",
      "rbc_normal:0\n",
      "pc_normal:0\n",
      "pcc_present:0\n",
      "ba_present:0\n",
      "htn_yes:0\n",
      "dm_yes:0\n",
      "cad_yes:1\n",
      "appet_yes:1\n",
      "pe_yes:1\n",
      "ane_yes:1\n"
     ]
    }
   ],
   "source": [
    "age_input=float(input('Age:'))\n",
    "bp_input=float(input(\"bp:\"))\n",
    "al_input=float(input(\"al:\"))\n",
    "su_input=float(input('su:'))\n",
    "bgr_input=float(input('bgr:'))\n",
    "bu_input=float(input('bu:'))\n",
    "sc_input=float(input('sc:'))\n",
    "sod_input=float(input('sod:'))\n",
    "pot_input=float(input('pot:'))\n",
    "hrmo_input=float(input('hrmo:'))\n",
    "pcv_input=float(input('pcv:'))\n",
    "wc_input=float(input('wc:'))\n",
    "rc_input=float(input('rc:'))\n",
    "sg_b_input=float(input('sg_b:'))\n",
    "sg_c_input=float(input('sg_c:'))\n",
    "sg_d_input=float(input('sg_d:'))\n",
    "sg_e_input=float(input('sg_e:'))\n",
    "rbc_normal=float(input('rbc_normal:'))\n",
    "pc_normal=float(input('pc_normal:'))\n",
    "pcc_present=float(input('pcc_present:'))\n",
    "ba_present=float(input('ba_present:'))\n",
    "htn_yes=float(input('htn_yes:'))\n",
    "dm_yes=float(input('dm_yes:'))\n",
    "cad_yes=float(input('cad_yes:'))\n",
    "appet_yes=float(input('appet_yes:'))\n",
    "pe_yes=float(input('pe_yes:'))\n",
    "ane_yes=float(input('ane_yes:'))"
   ]
  },
  {
   "cell_type": "code",
   "execution_count": 19,
   "id": "7f7bf959",
   "metadata": {},
   "outputs": [
    {
     "name": "stdout",
     "output_type": "stream",
     "text": [
      "Future_prediction=[1]\n"
     ]
    }
   ],
   "source": [
    "Future_prediction=classifier.predict([[ age_input,bp_input,al_input,su_input,bgr_input,bu_input,sc_input,sod_input,pot_input,\n",
    "                                 hrmo_input,pcv_input,wc_input,rc_input,sg_b_input,sg_c_input,sg_d_input,sg_e_input,\n",
    "                                 rbc_normal,pc_normal,pcc_present,ba_present,htn_yes,dm_yes,cad_yes,appet_yes,pe_yes,ane_yes]])\n",
    "print(\"Future_prediction={}\".format(Future_prediction))"
   ]
  },
  {
   "cell_type": "code",
   "execution_count": null,
   "id": "7d9068ec",
   "metadata": {},
   "outputs": [],
   "source": []
  }
 ],
 "metadata": {
  "kernelspec": {
   "display_name": "Python 3 (ipykernel)",
   "language": "python",
   "name": "python3"
  },
  "language_info": {
   "codemirror_mode": {
    "name": "ipython",
    "version": 3
   },
   "file_extension": ".py",
   "mimetype": "text/x-python",
   "name": "python",
   "nbconvert_exporter": "python",
   "pygments_lexer": "ipython3",
   "version": "3.11.5"
  }
 },
 "nbformat": 4,
 "nbformat_minor": 5
}
